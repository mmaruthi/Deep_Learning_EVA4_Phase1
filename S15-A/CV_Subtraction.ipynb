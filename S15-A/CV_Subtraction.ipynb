{
  "nbformat": 4,
  "nbformat_minor": 0,
  "metadata": {
    "colab": {
      "name": "Untitled35.ipynb",
      "provenance": [],
      "authorship_tag": "ABX9TyOjcLrvGTEmGhR8sX/cWDUO",
      "include_colab_link": true
    },
    "kernelspec": {
      "name": "python3",
      "display_name": "Python 3"
    }
  },
  "cells": [
    {
      "cell_type": "markdown",
      "metadata": {
        "id": "view-in-github",
        "colab_type": "text"
      },
      "source": [
        "<a href=\"https://colab.research.google.com/github/mmaruthi/Deep_Learning_EVA4_Phase1/blob/master/S15-A/CV_Subtraction.ipynb\" target=\"_parent\"><img src=\"https://colab.research.google.com/assets/colab-badge.svg\" alt=\"Open In Colab\"/></a>"
      ]
    },
    {
      "cell_type": "code",
      "metadata": {
        "id": "Alb323rnoLOJ",
        "colab_type": "code",
        "colab": {}
      },
      "source": [
        "import cv2 \n",
        "import numpy as np"
      ],
      "execution_count": 0,
      "outputs": []
    },
    {
      "cell_type": "code",
      "metadata": {
        "id": "DmgGGJUfo-Hy",
        "colab_type": "code",
        "outputId": "b228946a-e921-4224-c0df-f1c27b30361a",
        "colab": {
          "base_uri": "https://localhost:8080/",
          "height": 867
        }
      },
      "source": [
        "image1 = cv2.imread(\"/content/Img1_depth.jpg\")\n",
        "image1"
      ],
      "execution_count": 5,
      "outputs": [
        {
          "output_type": "execute_result",
          "data": {
            "text/plain": [
              "array([[[60, 60, 60],\n",
              "        [53, 53, 53],\n",
              "        [47, 47, 47],\n",
              "        ...,\n",
              "        [ 8,  8,  8],\n",
              "        [ 8,  8,  8],\n",
              "        [ 8,  8,  8]],\n",
              "\n",
              "       [[61, 61, 61],\n",
              "        [53, 53, 53],\n",
              "        [48, 48, 48],\n",
              "        ...,\n",
              "        [ 8,  8,  8],\n",
              "        [ 8,  8,  8],\n",
              "        [ 8,  8,  8]],\n",
              "\n",
              "       [[61, 61, 61],\n",
              "        [53, 53, 53],\n",
              "        [48, 48, 48],\n",
              "        ...,\n",
              "        [ 8,  8,  8],\n",
              "        [ 8,  8,  8],\n",
              "        [ 8,  8,  8]],\n",
              "\n",
              "       ...,\n",
              "\n",
              "       [[39, 39, 39],\n",
              "        [33, 33, 33],\n",
              "        [30, 30, 30],\n",
              "        ...,\n",
              "        [16, 16, 16],\n",
              "        [16, 16, 16],\n",
              "        [16, 16, 16]],\n",
              "\n",
              "       [[41, 41, 41],\n",
              "        [35, 35, 35],\n",
              "        [32, 32, 32],\n",
              "        ...,\n",
              "        [18, 18, 18],\n",
              "        [18, 18, 18],\n",
              "        [18, 18, 18]],\n",
              "\n",
              "       [[45, 45, 45],\n",
              "        [39, 39, 39],\n",
              "        [36, 36, 36],\n",
              "        ...,\n",
              "        [20, 20, 20],\n",
              "        [20, 20, 20],\n",
              "        [19, 19, 19]]], dtype=uint8)"
            ]
          },
          "metadata": {
            "tags": []
          },
          "execution_count": 5
        }
      ]
    },
    {
      "cell_type": "code",
      "metadata": {
        "id": "qsyDcTuAygo6",
        "colab_type": "code",
        "colab": {
          "base_uri": "https://localhost:8080/",
          "height": 35
        },
        "outputId": "8ea2576e-783b-4c06-ed2f-4a59ca6f8ba3"
      },
      "source": [
        "image1.shape"
      ],
      "execution_count": 6,
      "outputs": [
        {
          "output_type": "execute_result",
          "data": {
            "text/plain": [
              "(200, 200, 3)"
            ]
          },
          "metadata": {
            "tags": []
          },
          "execution_count": 6
        }
      ]
    },
    {
      "cell_type": "code",
      "metadata": {
        "id": "eHPD2Fa8pu6W",
        "colab_type": "code",
        "outputId": "d43a05b6-5ded-4513-bdb4-bfbdb82a750b",
        "colab": {
          "base_uri": "https://localhost:8080/",
          "height": 217
        }
      },
      "source": [
        "from google.colab.patches import cv2_imshow\n",
        "cv2_imshow(image1)\n"
      ],
      "execution_count": 7,
      "outputs": [
        {
          "output_type": "display_data",
          "data": {
            "image/png": "[encoded data removed]",
            "text/plain": [
              "<PIL.Image.Image image mode=RGB size=200x200 at 0x7FA682AB6240>"
            ]
          },
          "metadata": {
            "tags": []
          }
        }
      ]
    },
    {
      "cell_type": "code",
      "metadata": {
        "id": "BaMw6zjdrvB6",
        "colab_type": "code",
        "colab": {}
      },
      "source": [
        "image2 = cv2.imread(\"/content/Img_fg_bg_3_depth.jpg\")"
      ],
      "execution_count": 0,
      "outputs": []
    },
    {
      "cell_type": "code",
      "metadata": {
        "id": "J81bfJIeyne3",
        "colab_type": "code",
        "colab": {
          "base_uri": "https://localhost:8080/",
          "height": 35
        },
        "outputId": "7d49cfc0-9831-4cd1-f6e0-2ff7409ff748"
      },
      "source": [
        "image2.shape"
      ],
      "execution_count": 9,
      "outputs": [
        {
          "output_type": "execute_result",
          "data": {
            "text/plain": [
              "(200, 200, 3)"
            ]
          },
          "metadata": {
            "tags": []
          },
          "execution_count": 9
        }
      ]
    },
    {
      "cell_type": "code",
      "metadata": {
        "id": "4ciOYhk3p0El",
        "colab_type": "code",
        "colab": {}
      },
      "source": [
        "sub = cv2.subtract(image1, image2) "
      ],
      "execution_count": 0,
      "outputs": []
    },
    {
      "cell_type": "code",
      "metadata": {
        "id": "m0rhWdippIpv",
        "colab_type": "code",
        "outputId": "61afbee4-76c9-4293-b6eb-a83547ad6642",
        "colab": {
          "base_uri": "https://localhost:8080/",
          "height": 217
        }
      },
      "source": [
        "from google.colab.patches import cv2_imshow\n",
        "cv2_imshow(sub)"
      ],
      "execution_count": 11,
      "outputs": [
        {
          "output_type": "display_data",
          "data": {
            "image/png": "[encoded data removed]",
            "text/plain": [
              "<PIL.Image.Image image mode=RGB size=200x200 at 0x7FA6829DC160>"
            ]
          },
          "metadata": {
            "tags": []
          }
        }
      ]
    }
  ]
}