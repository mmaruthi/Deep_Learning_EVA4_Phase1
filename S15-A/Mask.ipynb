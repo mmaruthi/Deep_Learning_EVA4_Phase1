{
  "nbformat": 4,
  "nbformat_minor": 0,
  "metadata": {
    "colab": {
      "name": "Untitled33.ipynb",
      "provenance": [],
      "authorship_tag": "ABX9TyOHdqNNwShXs97rU4I0gBSR",
      "include_colab_link": true
    },
    "kernelspec": {
      "name": "python3",
      "display_name": "Python 3"
    }
  },
  "cells": [
    {
      "cell_type": "markdown",
      "metadata": {
        "id": "view-in-github",
        "colab_type": "text"
      },
      "source": [
        "<a href=\"https://colab.research.google.com/github/mmaruthi/Deep_Learning_EVA4_Phase1/blob/master/S15-A/Mask.ipynb\" target=\"_parent\"><img src=\"https://colab.research.google.com/assets/colab-badge.svg\" alt=\"Open In Colab\"/></a>"
      ]
    },
    {
      "cell_type": "code",
      "metadata": {
        "id": "goHFM-O4zd75",
        "colab_type": "code",
        "colab": {
          "base_uri": "https://localhost:8080/",
          "height": 139
        },
        "outputId": "4e5a184d-a12e-46bd-b392-1cee0c6ee64b"
      },
      "source": [
        "!git clone https://github.com/anilbhatt1/EVA4P1_S15_MaskRCNN"
      ],
      "execution_count": 1,
      "outputs": [
        {
          "output_type": "stream",
          "text": [
            "Cloning into 'EVA4P1_S15_MaskRCNN'...\n",
            "remote: Enumerating objects: 213, done.\u001b[K\n",
            "remote: Counting objects: 100% (213/213), done.\u001b[K\n",
            "remote: Compressing objects: 100% (211/211), done.\u001b[K\n",
            "remote: Total 213 (delta 3), reused 203 (delta 0), pack-reused 0\u001b[K\n",
            "Receiving objects: 100% (213/213), 11.94 MiB | 6.02 MiB/s, done.\n",
            "Resolving deltas: 100% (3/3), done.\n"
          ],
          "name": "stdout"
        }
      ]
    },
    {
      "cell_type": "code",
      "metadata": {
        "id": "K30KGRK10YIi",
        "colab_type": "code",
        "colab": {
          "base_uri": "https://localhost:8080/",
          "height": 217
        },
        "outputId": "6033e48e-f8f1-4443-8c1b-54e711fc96a4"
      },
      "source": [
        "from PIL import Image\n",
        "\n",
        "foreground = Image.open('/content/EVA4P1_S15_MaskRCNN/FG_Images/Image10.png')\n",
        "foreground = foreground.convert('L')\n",
        "foreground = foreground.point(lambda x: 255 if x > 0 else 0 , '1')\n",
        "\n",
        "background = Image.open('/content/EVA4P1_S15_MaskRCNN/BG_Images/Img10.png')\n",
        "background = foreground.convert('L')\n",
        "background = foreground.point(lambda x: 255 if x > 0 else 0 , '1')\n",
        "\n",
        "background.paste(foreground, (50, 50), foreground)\n",
        "\n",
        "background"
      ],
      "execution_count": 12,
      "outputs": [
        {
          "output_type": "execute_result",
          "data": {
            "image/png": "[encoded data removed]",
            "text/plain": [
              "<PIL.Image.Image image mode=1 size=200x200 at 0x7FB73495BDA0>"
            ]
          },
          "metadata": {
            "tags": []
          },
          "execution_count": 12
        }
      ]
    }
  ]
}