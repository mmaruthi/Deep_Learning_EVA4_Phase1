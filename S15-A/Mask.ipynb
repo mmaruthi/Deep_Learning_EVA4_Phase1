{
  "nbformat": 4,
  "nbformat_minor": 0,
  "metadata": {
    "colab": {
      "name": "Untitled33.ipynb",
      "provenance": [],
      "authorship_tag": "ABX9TyO4/VOhE0ivtr8+z3aPVljH",
      "include_colab_link": true
    },
    "kernelspec": {
      "name": "python3",
      "display_name": "Python 3"
    }
  },
  "cells": [
    {
      "cell_type": "markdown",
      "metadata": {
        "id": "view-in-github",
        "colab_type": "text"
      },
      "source": [
        "<a href=\"https://colab.research.google.com/github/mmaruthi/Deep_Learning_EVA4_Phase1/blob/master/S15-A/Mask.ipynb\" target=\"_parent\"><img src=\"https://colab.research.google.com/assets/colab-badge.svg\" alt=\"Open In Colab\"/></a>"
      ]
    },
    {
      "cell_type": "code",
      "metadata": {
        "id": "goHFM-O4zd75",
        "colab_type": "code",
        "colab": {
          "base_uri": "https://localhost:8080/",
          "height": 139
        },
        "outputId": "4e5a184d-a12e-46bd-b392-1cee0c6ee64b"
      },
      "source": [
        "!git clone https://github.com/anilbhatt1/EVA4P1_S15_MaskRCNN"
      ],
      "execution_count": 1,
      "outputs": [
        {
          "output_type": "stream",
          "text": [
            "Cloning into 'EVA4P1_S15_MaskRCNN'...\n",
            "remote: Enumerating objects: 213, done.\u001b[K\n",
            "remote: Counting objects: 100% (213/213), done.\u001b[K\n",
            "remote: Compressing objects: 100% (211/211), done.\u001b[K\n",
            "remote: Total 213 (delta 3), reused 203 (delta 0), pack-reused 0\u001b[K\n",
            "Receiving objects: 100% (213/213), 11.94 MiB | 6.02 MiB/s, done.\n",
            "Resolving deltas: 100% (3/3), done.\n"
          ],
          "name": "stdout"
        }
      ]
    },
    {
      "cell_type": "code",
      "metadata": {
        "id": "K30KGRK10YIi",
        "colab_type": "code",
        "colab": {}
      },
      "source": [
        "from PIL import Image\n",
        "\n",
        "foreground = Image.open('/content/EVA4P1_S15_MaskRCNN/FG_Images/Image10.png')\n",
        "foreground = foreground.convert('L')\n",
        "foreground = foreground.point(lambda x: 255 if x > 0 else 0 , '1')\n",
        "\n",
        "background = Image.open('/content/EVA4P1_S15_MaskRCNN/BG_Images/Img10.png')\n",
        "background = background.convert('L')\n",
        "background = background.point(lambda x: 0 if x > 0 else 255 , '1')\n",
        "\n",
        "background.paste(foreground, (50, 50), foreground)\n"
      ],
      "execution_count": 0,
      "outputs": []
    },
    {
      "cell_type": "code",
      "metadata": {
        "id": "kU6Lm57TQwFF",
        "colab_type": "code",
        "colab": {
          "base_uri": "https://localhost:8080/",
          "height": 217
        },
        "outputId": "87e3d1d7-8659-47b3-f475-ce99a9b92505"
      },
      "source": [
        "foreground"
      ],
      "execution_count": 22,
      "outputs": [
        {
          "output_type": "execute_result",
          "data": {
            "image/png": "[encoded data removed]",
            "text/plain": [
              "<PIL.Image.Image image mode=1 size=200x200 at 0x7FB73491EBE0>"
            ]
          },
          "metadata": {
            "tags": []
          },
          "execution_count": 22
        }
      ]
    },
    {
      "cell_type": "code",
      "metadata": {
        "id": "OrE3uJezQzB9",
        "colab_type": "code",
        "colab": {
          "base_uri": "https://localhost:8080/",
          "height": 241
        },
        "outputId": "180aea6e-eaf1-4987-cb13-6585441bf1c9"
      },
      "source": [
        "background"
      ],
      "execution_count": 23,
      "outputs": [
        {
          "output_type": "execute_result",
          "data": {
            "image/png": "[encoded data removed]",
            "text/plain": [
              "<PIL.Image.Image image mode=1 size=224x224 at 0x7FB73491E908>"
            ]
          },
          "metadata": {
            "tags": []
          },
          "execution_count": 23
        }
      ]
    }
  ]
}